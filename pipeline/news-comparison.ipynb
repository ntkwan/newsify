{
 "cells": [
  {
   "cell_type": "code",
   "execution_count": 1,
   "metadata": {
    "_cell_guid": "b1076dfc-b9ad-4769-8c92-a6c4dae69d19",
    "_uuid": "8f2839f25d086af736a60e9eeb907d3b93b6e0e5",
    "execution": {
     "iopub.execute_input": "2025-04-23T04:26:48.576648Z",
     "iopub.status.busy": "2025-04-23T04:26:48.576140Z",
     "iopub.status.idle": "2025-04-23T04:26:49.745562Z",
     "shell.execute_reply": "2025-04-23T04:26:49.744641Z",
     "shell.execute_reply.started": "2025-04-23T04:26:48.576622Z"
    },
    "trusted": true
   },
   "outputs": [],
   "source": [
    "import pandas as pd\n",
    "import numpy as np "
   ]
  },
  {
   "cell_type": "markdown",
   "metadata": {},
   "source": [
    "# Load data"
   ]
  },
  {
   "cell_type": "code",
   "execution_count": 2,
   "metadata": {
    "execution": {
     "iopub.execute_input": "2025-04-23T04:26:49.747397Z",
     "iopub.status.busy": "2025-04-23T04:26:49.746978Z",
     "iopub.status.idle": "2025-04-23T04:26:49.853867Z",
     "shell.execute_reply": "2025-04-23T04:26:49.852733Z",
     "shell.execute_reply.started": "2025-04-23T04:26:49.747370Z"
    },
    "trusted": true
   },
   "outputs": [],
   "source": [
    "data = pd.read_json('/kaggle/input/newsify-testing/Article.json')"
   ]
  },
  {
   "cell_type": "code",
   "execution_count": 22,
   "metadata": {
    "execution": {
     "iopub.execute_input": "2025-04-23T04:44:21.579819Z",
     "iopub.status.busy": "2025-04-23T04:44:21.579500Z",
     "iopub.status.idle": "2025-04-23T04:44:21.584620Z",
     "shell.execute_reply": "2025-04-23T04:44:21.583494Z",
     "shell.execute_reply.started": "2025-04-23T04:44:21.579798Z"
    },
    "trusted": true
   },
   "outputs": [],
   "source": [
    "# arr = data['categories'].values\n",
    "# unique_tuples = set(tuple(lst) for lst in arr)\n",
    "\n",
    "# # Chuyển lại thành danh sách (nếu cần)\n",
    "# unique_lists = sorted([list(tup) for tup in unique_tuples])\n",
    "\n",
    "# # In ra các danh sách duy nhất\n",
    "# for lst in unique_lists:\n",
    "#     print(lst)"
   ]
  },
  {
   "cell_type": "code",
   "execution_count": null,
   "metadata": {
    "execution": {
     "iopub.execute_input": "2025-04-23T05:29:05.051159Z",
     "iopub.status.busy": "2025-04-23T05:29:05.050818Z",
     "iopub.status.idle": "2025-04-23T05:29:05.058454Z",
     "shell.execute_reply": "2025-04-23T05:29:05.057289Z",
     "shell.execute_reply.started": "2025-04-23T05:29:05.051137Z"
    },
    "trusted": true
   },
   "outputs": [],
   "source": [
    "# Dòng testing (comment lại nếu cần)\n",
    "new_row = {\n",
    "    'url': 'https://www.bbc.com/news/articles/cy0x50yr46lo',\n",
    "    'src': 'bbc.com',\n",
    "    'language': 'english',\n",
    "    'categories': ['Business'],\n",
    "    'title': 'Musk to reduce Doge role after Tesla profits plunge',\n",
    "    'content': (\n",
    "        \"Tesla boss Elon Musk says he will cut back his role in Donald Trump's administration after the company's profits and revenues plunged during the first three months of the year. \"\n",
    "        \"Sales slumped and the electric carmaker faced a backlash as Musk became a political fixture in the White House. \"\n",
    "        \"On Tuesday, the firm reported a 20% drop in automotive revenue in the first quarter of 2025, compared with the same period last year, while profits fell more than 70%. \"\n",
    "        \"The recent dip in the company's fortunes came amid an outcry over Musk's role in Trump's new administration, which he acknowledged had taken his focus off the company. \"\n",
    "        \"The tech boss contributed more than a quarter of a billion dollars to Trump's re-election. He also leads Trump's Department of Government Efficiency (Doge) initiative to cut federal spending and slash the government workforce. \"\n",
    "        \"Musk said his 'time allocation to Doge' would 'drop significantly' starting next month. He would, he said, spend only one to two days per week on government matters 'as long as the president would like me to do so and as long as it's useful'. \"\n",
    "        \"His political involvement has sparked protests and boycotts of Tesla around the world. \"\n",
    "        \"He blamed the 'blowback' on people who would 'try to attack me and the Doge team'. But he called his work at Doge 'critical' and said 'getting the government house in order is mostly done'. \"\n",
    "        \"Tesla brought in $19.3bn (£14.5bn) in total revenue in the quarter, down 9% year on year, according to the new numbers. That was less than the $21.1bn expected by analysts, and came as the company cut prices in a bid to woo buyers. \"\n",
    "        \"Trump's tariffs on China also weighed heavily on Tesla, the company indicated. Although the vehicles Tesla sells in its home market are assembled in the US, it depends on many parts made in China. 'Rapidly evolving trade policy' could hurt its supply chain and raise costs, according to the company. \"\n",
    "        \"'This dynamic, along with changing political sentiment, could have a meaningful impact on demand for our products in the near-term,' Tesla's quarterly update said. \"\n",
    "        \"Musk has clashed on trade with other Trump administration figures, including trade adviser Peter Navarro. \"\n",
    "        \"The company warned investors that the pain could continue, declining to offer a growth forecast while saying 'changing political sentiment' could meaningfully hurt demand. Earlier this month, he called Navarro a 'moron' over comments he had made about Tesla. Navarro had said Musk was 'not a car manufacturer' but a 'car assembler, in many cases'. \"\n",
    "        \"On Tuesday, Musk said he thought Tesla was the car company least affected by tariffs because of its localised supply chains in North America, Europe and China, but he added that tariffs were 'still tough on a company where margins are low'. \"\n",
    "        \"'I'll continue to advocate for lower tariffs rather than higher tariffs but that's all I can do,' he said on Tuesday. \"\n",
    "        \"Tesla said artificial intelligence would contribute to future growth, though investors have been unconvinced by such arguments in the past. \"\n",
    "        \"Shares in the company had shed about 37% of their value this year as of market close on Tuesday. They rose by more than 5% in after-hours trading following the results. \"\n",
    "        \"Dan Coatsworth, investment analyst at AJ Bell, called expectations 'rock-bottom' after the company said earlier this month that the number of cars sold in the quarter had fallen 13% to the lowest level in three years. \"\n",
    "        \"The firm faces fierce competition, Mr Coatsworth said, warning that potential disruption to global supply chains as a result of Trump's trade war also created risks. \"\n",
    "        \"'Tesla's problems are mounting,' he said.\"\n",
    "    ),\n",
    "    'image_url': 'https://ichef.bbci.co.uk/news/1024/cpsprodpb/decd/live/e9fa6d40-1fcf-11f0-9dd2-2d8d7e0accb1.jpg.webp',\n",
    "    'publish_date': '2025-04-22T10:00:00+00:00',\n",
    "    'time': None,\n",
    "    'timezone': None, \n",
    "    'hour': None, \n",
    "    'minute': None, \n",
    "    'day': None, \n",
    "    'month': None,\n",
    "    'month_number': None, \n",
    "    'year': None, \n",
    "    'weekday': None,\n",
    "    'time_reading': None,\n",
    "    'author': 'Lily Jamali'\n",
    "}"
   ]
  },
  {
   "cell_type": "code",
   "execution_count": 49,
   "metadata": {
    "execution": {
     "iopub.execute_input": "2025-04-23T05:29:07.181387Z",
     "iopub.status.busy": "2025-04-23T05:29:07.180994Z",
     "iopub.status.idle": "2025-04-23T05:29:07.190518Z",
     "shell.execute_reply": "2025-04-23T05:29:07.189546Z",
     "shell.execute_reply.started": "2025-04-23T05:29:07.181362Z"
    },
    "trusted": true
   },
   "outputs": [
    {
     "name": "stderr",
     "output_type": "stream",
     "text": [
      "/tmp/ipykernel_31/1797058211.py:3: FutureWarning: The behavior of DataFrame concatenation with empty or all-NA entries is deprecated. In a future version, this will no longer exclude empty or all-NA columns when determining the result dtypes. To retain the old behavior, exclude the relevant entries before the concat operation.\n",
      "  news_df = pd.concat([news_df, new_row_df], ignore_index=True)\n"
     ]
    }
   ],
   "source": [
    "new_row_df = pd.DataFrame([new_row])\n",
    "news_df = data\n",
    "news_df = pd.concat([news_df, new_row_df], ignore_index=True)"
   ]
  },
  {
   "cell_type": "code",
   "execution_count": 50,
   "metadata": {
    "collapsed": true,
    "execution": {
     "iopub.execute_input": "2025-04-23T05:29:08.716673Z",
     "iopub.status.busy": "2025-04-23T05:29:08.716352Z",
     "iopub.status.idle": "2025-04-23T05:29:08.742727Z",
     "shell.execute_reply": "2025-04-23T05:29:08.741852Z",
     "shell.execute_reply.started": "2025-04-23T05:29:08.716650Z"
    },
    "jupyter": {
     "outputs_hidden": true
    },
    "trusted": true
   },
   "outputs": [
    {
     "name": "stderr",
     "output_type": "stream",
     "text": [
      "/usr/local/lib/python3.11/dist-packages/pandas/io/formats/format.py:1458: RuntimeWarning: invalid value encountered in greater\n",
      "  has_large_values = (abs_vals > 1e6).any()\n",
      "/usr/local/lib/python3.11/dist-packages/pandas/io/formats/format.py:1459: RuntimeWarning: invalid value encountered in less\n",
      "  has_small_values = ((abs_vals < 10 ** (-self.digits)) & (abs_vals > 0)).any()\n",
      "/usr/local/lib/python3.11/dist-packages/pandas/io/formats/format.py:1459: RuntimeWarning: invalid value encountered in greater\n",
      "  has_small_values = ((abs_vals < 10 ** (-self.digits)) & (abs_vals > 0)).any()\n"
     ]
    },
    {
     "data": {
      "text/html": [
       "<div>\n",
       "<style scoped>\n",
       "    .dataframe tbody tr th:only-of-type {\n",
       "        vertical-align: middle;\n",
       "    }\n",
       "\n",
       "    .dataframe tbody tr th {\n",
       "        vertical-align: top;\n",
       "    }\n",
       "\n",
       "    .dataframe thead th {\n",
       "        text-align: right;\n",
       "    }\n",
       "</style>\n",
       "<table border=\"1\" class=\"dataframe\">\n",
       "  <thead>\n",
       "    <tr style=\"text-align: right;\">\n",
       "      <th></th>\n",
       "      <th>url</th>\n",
       "      <th>src</th>\n",
       "      <th>language</th>\n",
       "      <th>categories</th>\n",
       "      <th>title</th>\n",
       "      <th>content</th>\n",
       "      <th>image_url</th>\n",
       "      <th>publish_date</th>\n",
       "      <th>time</th>\n",
       "      <th>timezone</th>\n",
       "      <th>hour</th>\n",
       "      <th>minute</th>\n",
       "      <th>day</th>\n",
       "      <th>month</th>\n",
       "      <th>month_number</th>\n",
       "      <th>year</th>\n",
       "      <th>weekday</th>\n",
       "      <th>time_reading</th>\n",
       "      <th>author</th>\n",
       "    </tr>\n",
       "  </thead>\n",
       "  <tbody>\n",
       "    <tr>\n",
       "      <th>0</th>\n",
       "      <td>https://edition.cnn.com/2025/03/13/style/tyla-...</td>\n",
       "      <td>edition.cnn.com</td>\n",
       "      <td>english</td>\n",
       "      <td>[World, Africa]</td>\n",
       "      <td>Look of the Week: Tyla brings the Chanel skirt...</td>\n",
       "      <td>Editor’s Note: Featuring the good, the bad and...</td>\n",
       "      <td>https://media.cnn.com/api/v1/images/stellar/pr...</td>\n",
       "      <td>2:06 AM EDT, Thu March 13, 2025</td>\n",
       "      <td>2:06 AM</td>\n",
       "      <td>EDT</td>\n",
       "      <td>2.0</td>\n",
       "      <td>6.0</td>\n",
       "      <td>13.0</td>\n",
       "      <td>March</td>\n",
       "      <td>3.0</td>\n",
       "      <td>2025.0</td>\n",
       "      <td>Thursday</td>\n",
       "      <td>2 minute read</td>\n",
       "      <td>Leah Dolan</td>\n",
       "    </tr>\n",
       "    <tr>\n",
       "      <th>1</th>\n",
       "      <td>https://edition.cnn.com/2025/03/05/africa/leso...</td>\n",
       "      <td>edition.cnn.com</td>\n",
       "      <td>english</td>\n",
       "      <td>[World, Africa]</td>\n",
       "      <td>Lesotho insulted after Trump says nobody has h...</td>\n",
       "      <td>Lesotho’s foreign minister said on Wednesday h...</td>\n",
       "      <td>https://media.cnn.com/api/v1/images/stellar/pr...</td>\n",
       "      <td>Updated\\n          9:22 PM EST, Wed March 5, 2025</td>\n",
       "      <td>9:22 PM</td>\n",
       "      <td>EST</td>\n",
       "      <td>21.0</td>\n",
       "      <td>22.0</td>\n",
       "      <td>5.0</td>\n",
       "      <td>March</td>\n",
       "      <td>3.0</td>\n",
       "      <td>2025.0</td>\n",
       "      <td>Wednesday</td>\n",
       "      <td>2 minute read</td>\n",
       "      <td>No author</td>\n",
       "    </tr>\n",
       "    <tr>\n",
       "      <th>2</th>\n",
       "      <td>https://edition.cnn.com/2025/03/13/travel/haid...</td>\n",
       "      <td>edition.cnn.com</td>\n",
       "      <td>english</td>\n",
       "      <td>[World, China]</td>\n",
       "      <td>Chinese restaurant apologizes after video of d...</td>\n",
       "      <td>Chinese hotpot giant Haidilao said it would co...</td>\n",
       "      <td>https://media.cnn.com/api/v1/images/stellar/pr...</td>\n",
       "      <td>Updated\\n          9:26 PM EDT, Thu March 13, ...</td>\n",
       "      <td>9:26 PM</td>\n",
       "      <td>EDT</td>\n",
       "      <td>21.0</td>\n",
       "      <td>26.0</td>\n",
       "      <td>13.0</td>\n",
       "      <td>March</td>\n",
       "      <td>3.0</td>\n",
       "      <td>2025.0</td>\n",
       "      <td>Thursday</td>\n",
       "      <td>1 minute read</td>\n",
       "      <td>No author</td>\n",
       "    </tr>\n",
       "    <tr>\n",
       "      <th>3</th>\n",
       "      <td>https://edition.cnn.com/travel/chinese-grandmo...</td>\n",
       "      <td>edition.cnn.com</td>\n",
       "      <td>english</td>\n",
       "      <td>[World, China]</td>\n",
       "      <td>She went on her first international trip at ag...</td>\n",
       "      <td>In her late 50s and early 60s, Li Dongju found...</td>\n",
       "      <td>https://media.cnn.com/api/v1/images/stellar/pr...</td>\n",
       "      <td>9:19 PM EDT, Tue March 18, 2025</td>\n",
       "      <td>9:19 PM</td>\n",
       "      <td>EDT</td>\n",
       "      <td>21.0</td>\n",
       "      <td>19.0</td>\n",
       "      <td>18.0</td>\n",
       "      <td>March</td>\n",
       "      <td>3.0</td>\n",
       "      <td>2025.0</td>\n",
       "      <td>Tuesday</td>\n",
       "      <td>5 minute read</td>\n",
       "      <td>No author</td>\n",
       "    </tr>\n",
       "    <tr>\n",
       "      <th>4</th>\n",
       "      <td>https://edition.cnn.com/2025/03/24/travel/plan...</td>\n",
       "      <td>edition.cnn.com</td>\n",
       "      <td>english</td>\n",
       "      <td>[World, China]</td>\n",
       "      <td>‘It’s quite embarrassing’: China-bound United ...</td>\n",
       "      <td>A United Airlines Boeing 787 jetliner flying f...</td>\n",
       "      <td>https://media.cnn.com/api/v1/images/stellar/pr...</td>\n",
       "      <td>Updated\\n          2:02 AM EDT, Tue March 25, ...</td>\n",
       "      <td>2:02 AM</td>\n",
       "      <td>EDT</td>\n",
       "      <td>2.0</td>\n",
       "      <td>2.0</td>\n",
       "      <td>25.0</td>\n",
       "      <td>March</td>\n",
       "      <td>3.0</td>\n",
       "      <td>2025.0</td>\n",
       "      <td>Tuesday</td>\n",
       "      <td>3 minute read</td>\n",
       "      <td>Joyce Jiang, Aaron Cooper</td>\n",
       "    </tr>\n",
       "    <tr>\n",
       "      <th>...</th>\n",
       "      <td>...</td>\n",
       "      <td>...</td>\n",
       "      <td>...</td>\n",
       "      <td>...</td>\n",
       "      <td>...</td>\n",
       "      <td>...</td>\n",
       "      <td>...</td>\n",
       "      <td>...</td>\n",
       "      <td>...</td>\n",
       "      <td>...</td>\n",
       "      <td>...</td>\n",
       "      <td>...</td>\n",
       "      <td>...</td>\n",
       "      <td>...</td>\n",
       "      <td>...</td>\n",
       "      <td>...</td>\n",
       "      <td>...</td>\n",
       "      <td>...</td>\n",
       "      <td>...</td>\n",
       "    </tr>\n",
       "    <tr>\n",
       "      <th>496</th>\n",
       "      <td>https://edition.cnn.com/2025/02/22/sport/pakis...</td>\n",
       "      <td>edition.cnn.com</td>\n",
       "      <td>english</td>\n",
       "      <td>[World, India]</td>\n",
       "      <td>This cricket-mad country spent years convincin...</td>\n",
       "      <td>Jet fighters flew over a packed stadium in sou...</td>\n",
       "      <td>https://media.cnn.com/api/v1/images/stellar/pr...</td>\n",
       "      <td>3:26 AM EST, Sat February 22, 2025</td>\n",
       "      <td>3:26 AM</td>\n",
       "      <td>EST</td>\n",
       "      <td>3.0</td>\n",
       "      <td>26.0</td>\n",
       "      <td>22.0</td>\n",
       "      <td>February</td>\n",
       "      <td>2.0</td>\n",
       "      <td>2025.0</td>\n",
       "      <td>Saturday</td>\n",
       "      <td>5 minute read</td>\n",
       "      <td>Sophia Saifi</td>\n",
       "    </tr>\n",
       "    <tr>\n",
       "      <th>497</th>\n",
       "      <td>https://edition.cnn.com/2025/02/13/economy/new...</td>\n",
       "      <td>edition.cnn.com</td>\n",
       "      <td>english</td>\n",
       "      <td>[World, India]</td>\n",
       "      <td>Trump orders up a plan for more tariffs, even ...</td>\n",
       "      <td>President Donald Trump doubled down on his ext...</td>\n",
       "      <td>https://media.cnn.com/api/v1/images/stellar/pr...</td>\n",
       "      <td>Updated\\n          12:01 AM EST, Fri February ...</td>\n",
       "      <td>12:01 AM</td>\n",
       "      <td>EST</td>\n",
       "      <td>0.0</td>\n",
       "      <td>1.0</td>\n",
       "      <td>14.0</td>\n",
       "      <td>February</td>\n",
       "      <td>2.0</td>\n",
       "      <td>2025.0</td>\n",
       "      <td>Friday</td>\n",
       "      <td>6 minute read</td>\n",
       "      <td>Elisabeth Buchwald, David Goldman</td>\n",
       "    </tr>\n",
       "    <tr>\n",
       "      <th>498</th>\n",
       "      <td>https://edition.cnn.com/2025/02/23/travel/amer...</td>\n",
       "      <td>edition.cnn.com</td>\n",
       "      <td>english</td>\n",
       "      <td>[World, India]</td>\n",
       "      <td>American Airlines flight from New York to New ...</td>\n",
       "      <td>An American Airlines flight from New York to N...</td>\n",
       "      <td>https://media.cnn.com/api/v1/images/stellar/pr...</td>\n",
       "      <td>Updated\\n          7:33 AM EST, Mon February 2...</td>\n",
       "      <td>7:33 AM</td>\n",
       "      <td>EST</td>\n",
       "      <td>7.0</td>\n",
       "      <td>33.0</td>\n",
       "      <td>24.0</td>\n",
       "      <td>February</td>\n",
       "      <td>2.0</td>\n",
       "      <td>2025.0</td>\n",
       "      <td>Monday</td>\n",
       "      <td>2 minute read</td>\n",
       "      <td>The Associated Press</td>\n",
       "    </tr>\n",
       "    <tr>\n",
       "      <th>499</th>\n",
       "      <td>https://edition.cnn.com/2025/02/22/india/keral...</td>\n",
       "      <td>edition.cnn.com</td>\n",
       "      <td>english</td>\n",
       "      <td>[World, India]</td>\n",
       "      <td>Indian teenager alleges rape over five years b...</td>\n",
       "      <td>Editor’s Note: This article contains details t...</td>\n",
       "      <td>https://media.cnn.com/api/v1/images/stellar/pr...</td>\n",
       "      <td>11:51 PM EST, Sat February 22, 2025</td>\n",
       "      <td>11:51 PM</td>\n",
       "      <td>EST</td>\n",
       "      <td>23.0</td>\n",
       "      <td>51.0</td>\n",
       "      <td>22.0</td>\n",
       "      <td>February</td>\n",
       "      <td>2.0</td>\n",
       "      <td>2025.0</td>\n",
       "      <td>Saturday</td>\n",
       "      <td>7 minute read</td>\n",
       "      <td>Esha Mitra, Lex Harvey</td>\n",
       "    </tr>\n",
       "    <tr>\n",
       "      <th>500</th>\n",
       "      <td>https://www.bbc.com/news/articles/cy0x50yr46lo</td>\n",
       "      <td>bbc.com</td>\n",
       "      <td>english</td>\n",
       "      <td>[Business]</td>\n",
       "      <td>Musk to reduce Doge role after Tesla profits p...</td>\n",
       "      <td>Tesla boss Elon Musk says he will cut back his...</td>\n",
       "      <td>https://ichef.bbci.co.uk/news/1024/cpsprodpb/d...</td>\n",
       "      <td>2025-04-22T10:00:00+00:00</td>\n",
       "      <td>None</td>\n",
       "      <td>None</td>\n",
       "      <td>NaN</td>\n",
       "      <td>NaN</td>\n",
       "      <td>NaN</td>\n",
       "      <td>None</td>\n",
       "      <td>NaN</td>\n",
       "      <td>NaN</td>\n",
       "      <td>None</td>\n",
       "      <td>None</td>\n",
       "      <td>Lily Jamali</td>\n",
       "    </tr>\n",
       "  </tbody>\n",
       "</table>\n",
       "<p>501 rows × 19 columns</p>\n",
       "</div>"
      ],
      "text/plain": [
       "                                                   url              src  \\\n",
       "0    https://edition.cnn.com/2025/03/13/style/tyla-...  edition.cnn.com   \n",
       "1    https://edition.cnn.com/2025/03/05/africa/leso...  edition.cnn.com   \n",
       "2    https://edition.cnn.com/2025/03/13/travel/haid...  edition.cnn.com   \n",
       "3    https://edition.cnn.com/travel/chinese-grandmo...  edition.cnn.com   \n",
       "4    https://edition.cnn.com/2025/03/24/travel/plan...  edition.cnn.com   \n",
       "..                                                 ...              ...   \n",
       "496  https://edition.cnn.com/2025/02/22/sport/pakis...  edition.cnn.com   \n",
       "497  https://edition.cnn.com/2025/02/13/economy/new...  edition.cnn.com   \n",
       "498  https://edition.cnn.com/2025/02/23/travel/amer...  edition.cnn.com   \n",
       "499  https://edition.cnn.com/2025/02/22/india/keral...  edition.cnn.com   \n",
       "500     https://www.bbc.com/news/articles/cy0x50yr46lo          bbc.com   \n",
       "\n",
       "    language       categories  \\\n",
       "0    english  [World, Africa]   \n",
       "1    english  [World, Africa]   \n",
       "2    english   [World, China]   \n",
       "3    english   [World, China]   \n",
       "4    english   [World, China]   \n",
       "..       ...              ...   \n",
       "496  english   [World, India]   \n",
       "497  english   [World, India]   \n",
       "498  english   [World, India]   \n",
       "499  english   [World, India]   \n",
       "500  english       [Business]   \n",
       "\n",
       "                                                 title  \\\n",
       "0    Look of the Week: Tyla brings the Chanel skirt...   \n",
       "1    Lesotho insulted after Trump says nobody has h...   \n",
       "2    Chinese restaurant apologizes after video of d...   \n",
       "3    She went on her first international trip at ag...   \n",
       "4    ‘It’s quite embarrassing’: China-bound United ...   \n",
       "..                                                 ...   \n",
       "496  This cricket-mad country spent years convincin...   \n",
       "497  Trump orders up a plan for more tariffs, even ...   \n",
       "498  American Airlines flight from New York to New ...   \n",
       "499  Indian teenager alleges rape over five years b...   \n",
       "500  Musk to reduce Doge role after Tesla profits p...   \n",
       "\n",
       "                                               content  \\\n",
       "0    Editor’s Note: Featuring the good, the bad and...   \n",
       "1    Lesotho’s foreign minister said on Wednesday h...   \n",
       "2    Chinese hotpot giant Haidilao said it would co...   \n",
       "3    In her late 50s and early 60s, Li Dongju found...   \n",
       "4    A United Airlines Boeing 787 jetliner flying f...   \n",
       "..                                                 ...   \n",
       "496  Jet fighters flew over a packed stadium in sou...   \n",
       "497  President Donald Trump doubled down on his ext...   \n",
       "498  An American Airlines flight from New York to N...   \n",
       "499  Editor’s Note: This article contains details t...   \n",
       "500  Tesla boss Elon Musk says he will cut back his...   \n",
       "\n",
       "                                             image_url  \\\n",
       "0    https://media.cnn.com/api/v1/images/stellar/pr...   \n",
       "1    https://media.cnn.com/api/v1/images/stellar/pr...   \n",
       "2    https://media.cnn.com/api/v1/images/stellar/pr...   \n",
       "3    https://media.cnn.com/api/v1/images/stellar/pr...   \n",
       "4    https://media.cnn.com/api/v1/images/stellar/pr...   \n",
       "..                                                 ...   \n",
       "496  https://media.cnn.com/api/v1/images/stellar/pr...   \n",
       "497  https://media.cnn.com/api/v1/images/stellar/pr...   \n",
       "498  https://media.cnn.com/api/v1/images/stellar/pr...   \n",
       "499  https://media.cnn.com/api/v1/images/stellar/pr...   \n",
       "500  https://ichef.bbci.co.uk/news/1024/cpsprodpb/d...   \n",
       "\n",
       "                                          publish_date      time timezone  \\\n",
       "0                      2:06 AM EDT, Thu March 13, 2025   2:06 AM      EDT   \n",
       "1    Updated\\n          9:22 PM EST, Wed March 5, 2025   9:22 PM      EST   \n",
       "2    Updated\\n          9:26 PM EDT, Thu March 13, ...   9:26 PM      EDT   \n",
       "3                      9:19 PM EDT, Tue March 18, 2025   9:19 PM      EDT   \n",
       "4    Updated\\n          2:02 AM EDT, Tue March 25, ...   2:02 AM      EDT   \n",
       "..                                                 ...       ...      ...   \n",
       "496                 3:26 AM EST, Sat February 22, 2025   3:26 AM      EST   \n",
       "497  Updated\\n          12:01 AM EST, Fri February ...  12:01 AM      EST   \n",
       "498  Updated\\n          7:33 AM EST, Mon February 2...   7:33 AM      EST   \n",
       "499                11:51 PM EST, Sat February 22, 2025  11:51 PM      EST   \n",
       "500                          2025-04-22T10:00:00+00:00      None     None   \n",
       "\n",
       "     hour  minute   day     month  month_number    year    weekday  \\\n",
       "0     2.0     6.0  13.0     March           3.0  2025.0   Thursday   \n",
       "1    21.0    22.0   5.0     March           3.0  2025.0  Wednesday   \n",
       "2    21.0    26.0  13.0     March           3.0  2025.0   Thursday   \n",
       "3    21.0    19.0  18.0     March           3.0  2025.0    Tuesday   \n",
       "4     2.0     2.0  25.0     March           3.0  2025.0    Tuesday   \n",
       "..    ...     ...   ...       ...           ...     ...        ...   \n",
       "496   3.0    26.0  22.0  February           2.0  2025.0   Saturday   \n",
       "497   0.0     1.0  14.0  February           2.0  2025.0     Friday   \n",
       "498   7.0    33.0  24.0  February           2.0  2025.0     Monday   \n",
       "499  23.0    51.0  22.0  February           2.0  2025.0   Saturday   \n",
       "500   NaN     NaN   NaN      None           NaN     NaN       None   \n",
       "\n",
       "      time_reading                             author  \n",
       "0    2 minute read                         Leah Dolan  \n",
       "1    2 minute read                          No author  \n",
       "2    1 minute read                          No author  \n",
       "3    5 minute read                          No author  \n",
       "4    3 minute read          Joyce Jiang, Aaron Cooper  \n",
       "..             ...                                ...  \n",
       "496  5 minute read                       Sophia Saifi  \n",
       "497  6 minute read  Elisabeth Buchwald, David Goldman  \n",
       "498  2 minute read               The Associated Press  \n",
       "499  7 minute read             Esha Mitra, Lex Harvey  \n",
       "500           None                        Lily Jamali  \n",
       "\n",
       "[501 rows x 19 columns]"
      ]
     },
     "execution_count": 50,
     "metadata": {},
     "output_type": "execute_result"
    }
   ],
   "source": [
    "news_df"
   ]
  },
  {
   "cell_type": "markdown",
   "metadata": {},
   "source": [
    "# News comparison"
   ]
  },
  {
   "cell_type": "code",
   "execution_count": 51,
   "metadata": {
    "execution": {
     "iopub.execute_input": "2025-04-23T05:42:24.702904Z",
     "iopub.status.busy": "2025-04-23T05:42:24.702567Z",
     "iopub.status.idle": "2025-04-23T05:43:04.451514Z",
     "shell.execute_reply": "2025-04-23T05:43:04.450457Z",
     "shell.execute_reply.started": "2025-04-23T05:42:24.702881Z"
    },
    "trusted": true
   },
   "outputs": [
    {
     "name": "stderr",
     "output_type": "stream",
     "text": [
      "2025-04-23 05:42:44.351700: E external/local_xla/xla/stream_executor/cuda/cuda_fft.cc:477] Unable to register cuFFT factory: Attempting to register factory for plugin cuFFT when one has already been registered\n",
      "WARNING: All log messages before absl::InitializeLog() is called are written to STDERR\n",
      "E0000 00:00:1745386964.610455      31 cuda_dnn.cc:8310] Unable to register cuDNN factory: Attempting to register factory for plugin cuDNN when one has already been registered\n",
      "E0000 00:00:1745386964.690430      31 cuda_blas.cc:1418] Unable to register cuBLAS factory: Attempting to register factory for plugin cuBLAS when one has already been registered\n"
     ]
    }
   ],
   "source": [
    "from sentence_transformers import SentenceTransformer\n",
    "from sklearn.metrics.pairwise import cosine_similarity"
   ]
  },
  {
   "cell_type": "code",
   "execution_count": 54,
   "metadata": {
    "execution": {
     "iopub.execute_input": "2025-04-23T05:43:07.537434Z",
     "iopub.status.busy": "2025-04-23T05:43:07.537061Z",
     "iopub.status.idle": "2025-04-23T05:43:15.248209Z",
     "shell.execute_reply": "2025-04-23T05:43:15.247007Z",
     "shell.execute_reply.started": "2025-04-23T05:43:07.537409Z"
    },
    "trusted": true
   },
   "outputs": [
    {
     "data": {
      "application/vnd.jupyter.widget-view+json": {
       "model_id": "5ad5128e30ad4a6f818ee63cd1b2074a",
       "version_major": 2,
       "version_minor": 0
      },
      "text/plain": [
       "modules.json:   0%|          | 0.00/349 [00:00<?, ?B/s]"
      ]
     },
     "metadata": {},
     "output_type": "display_data"
    },
    {
     "data": {
      "application/vnd.jupyter.widget-view+json": {
       "model_id": "802e374439d147e09a382075d43e38a6",
       "version_major": 2,
       "version_minor": 0
      },
      "text/plain": [
       "config_sentence_transformers.json:   0%|          | 0.00/116 [00:00<?, ?B/s]"
      ]
     },
     "metadata": {},
     "output_type": "display_data"
    },
    {
     "data": {
      "application/vnd.jupyter.widget-view+json": {
       "model_id": "0574e02281b941dd8e0e6da5c5ac75b9",
       "version_major": 2,
       "version_minor": 0
      },
      "text/plain": [
       "README.md:   0%|          | 0.00/10.5k [00:00<?, ?B/s]"
      ]
     },
     "metadata": {},
     "output_type": "display_data"
    },
    {
     "data": {
      "application/vnd.jupyter.widget-view+json": {
       "model_id": "69c826f573024d89a17eb308de83c306",
       "version_major": 2,
       "version_minor": 0
      },
      "text/plain": [
       "sentence_bert_config.json:   0%|          | 0.00/53.0 [00:00<?, ?B/s]"
      ]
     },
     "metadata": {},
     "output_type": "display_data"
    },
    {
     "data": {
      "application/vnd.jupyter.widget-view+json": {
       "model_id": "0a6932e79a7446e59cc8ac0a396a5265",
       "version_major": 2,
       "version_minor": 0
      },
      "text/plain": [
       "config.json:   0%|          | 0.00/612 [00:00<?, ?B/s]"
      ]
     },
     "metadata": {},
     "output_type": "display_data"
    },
    {
     "name": "stderr",
     "output_type": "stream",
     "text": [
      "Xet Storage is enabled for this repo, but the 'hf_xet' package is not installed. Falling back to regular HTTP download. For better performance, install the package with: `pip install huggingface_hub[hf_xet]` or `pip install hf_xet`\n"
     ]
    },
    {
     "data": {
      "application/vnd.jupyter.widget-view+json": {
       "model_id": "64850ef2a9a54d728363ad6554177ffe",
       "version_major": 2,
       "version_minor": 0
      },
      "text/plain": [
       "model.safetensors:   0%|          | 0.00/90.9M [00:00<?, ?B/s]"
      ]
     },
     "metadata": {},
     "output_type": "display_data"
    },
    {
     "data": {
      "application/vnd.jupyter.widget-view+json": {
       "model_id": "7f4b67ca2abe4244b4c71ec09e7fa073",
       "version_major": 2,
       "version_minor": 0
      },
      "text/plain": [
       "tokenizer_config.json:   0%|          | 0.00/350 [00:00<?, ?B/s]"
      ]
     },
     "metadata": {},
     "output_type": "display_data"
    },
    {
     "data": {
      "application/vnd.jupyter.widget-view+json": {
       "model_id": "fa744dbc2fb04131879932d995c4ae5e",
       "version_major": 2,
       "version_minor": 0
      },
      "text/plain": [
       "vocab.txt:   0%|          | 0.00/232k [00:00<?, ?B/s]"
      ]
     },
     "metadata": {},
     "output_type": "display_data"
    },
    {
     "data": {
      "application/vnd.jupyter.widget-view+json": {
       "model_id": "e9575804dd3448ee931b0dc6374c0428",
       "version_major": 2,
       "version_minor": 0
      },
      "text/plain": [
       "tokenizer.json:   0%|          | 0.00/466k [00:00<?, ?B/s]"
      ]
     },
     "metadata": {},
     "output_type": "display_data"
    },
    {
     "data": {
      "application/vnd.jupyter.widget-view+json": {
       "model_id": "b7dfeeddcb0442e3a4e638909cee3c60",
       "version_major": 2,
       "version_minor": 0
      },
      "text/plain": [
       "special_tokens_map.json:   0%|          | 0.00/112 [00:00<?, ?B/s]"
      ]
     },
     "metadata": {},
     "output_type": "display_data"
    },
    {
     "data": {
      "application/vnd.jupyter.widget-view+json": {
       "model_id": "5688852cb64641c0a78cff7796cda5de",
       "version_major": 2,
       "version_minor": 0
      },
      "text/plain": [
       "config.json:   0%|          | 0.00/190 [00:00<?, ?B/s]"
      ]
     },
     "metadata": {},
     "output_type": "display_data"
    }
   ],
   "source": [
    "model = SentenceTransformer('all-MiniLM-L6-v2')"
   ]
  },
  {
   "cell_type": "code",
   "execution_count": 65,
   "metadata": {
    "execution": {
     "iopub.execute_input": "2025-04-23T05:51:03.288476Z",
     "iopub.status.busy": "2025-04-23T05:51:03.288103Z",
     "iopub.status.idle": "2025-04-23T05:51:03.296974Z",
     "shell.execute_reply": "2025-04-23T05:51:03.295801Z",
     "shell.execute_reply.started": "2025-04-23T05:51:03.288450Z"
    },
    "trusted": true
   },
   "outputs": [],
   "source": [
    "def compute_embedding_similarity(df, content_column='content', category_filter=None, threshold = 0.7):\n",
    "    # Lọc bài báo theo danh mục (nếu có)\n",
    "    if category_filter:\n",
    "        df = df[df['categories'].apply(lambda x: category_filter in x)]\n",
    "    \n",
    "    # Tạo embeddings cho nội dung\n",
    "    embeddings = model.encode(df[content_column].tolist(), show_progress_bar=True)\n",
    "    \n",
    "    # Tính độ tương đồng cosine\n",
    "    similarity_matrix = cosine_similarity(embeddings)\n",
    "    \n",
    "    # Tạo DataFrame chứa kết quả tương đồng\n",
    "    similarity_df = pd.DataFrame(\n",
    "        similarity_matrix,\n",
    "        index=df.index,\n",
    "        columns=df.index\n",
    "    )\n",
    "    \n",
    "    # Danh sách kết quả\n",
    "    results = []\n",
    "    \n",
    "    \n",
    "    for i in range(len(similarity_df)):\n",
    "        for j in range(i + 1, len(similarity_df)):\n",
    "            if similarity_df.iloc[i, j] > threshold and df['src'].iloc[i] != df['src'].iloc[j]:\n",
    "                results.append({\n",
    "                    'article_1': df['title'].iloc[i],\n",
    "                    'source_1': df['src'].iloc[i],\n",
    "                    'article_2': df['title'].iloc[j],\n",
    "                    'source_2': df['src'].iloc[j],\n",
    "                    'categories': df['categories'].iloc[i],\n",
    "                    'similarity': similarity_df.iloc[i, j]\n",
    "                })\n",
    "    \n",
    "    # Chuyển kết quả thành DataFrame\n",
    "    results_df = pd.DataFrame(results)\n",
    "    return similarity_df, results_df"
   ]
  },
  {
   "cell_type": "code",
   "execution_count": 67,
   "metadata": {
    "execution": {
     "iopub.execute_input": "2025-04-23T05:51:47.037682Z",
     "iopub.status.busy": "2025-04-23T05:51:47.037337Z",
     "iopub.status.idle": "2025-04-23T05:51:51.247270Z",
     "shell.execute_reply": "2025-04-23T05:51:51.246229Z",
     "shell.execute_reply.started": "2025-04-23T05:51:47.037659Z"
    },
    "trusted": true
   },
   "outputs": [
    {
     "data": {
      "application/vnd.jupyter.widget-view+json": {
       "model_id": "d76358b552e548e0a3fe55c01a8761c8",
       "version_major": 2,
       "version_minor": 0
      },
      "text/plain": [
       "Batches:   0%|          | 0/2 [00:00<?, ?it/s]"
      ]
     },
     "metadata": {},
     "output_type": "display_data"
    },
    {
     "name": "stdout",
     "output_type": "stream",
     "text": [
      "BERT-based Cosine Similarity Matrix (Business articles):\n",
      "          175       177       179       180       181       182       183  \\\n",
      "175  1.000000  0.679290  0.263484  0.429227 -0.002279  0.004770  0.311450   \n",
      "177  0.679290  1.000000  0.242643  0.357260  0.058365 -0.006876  0.298908   \n",
      "179  0.263484  0.242643  1.000000  0.240237  0.104896  0.138003  0.172624   \n",
      "180  0.429227  0.357260  0.240237  1.000000 -0.052949 -0.028117  0.260795   \n",
      "181 -0.002279  0.058365  0.104896 -0.052949  1.000000  0.373278  0.077304   \n",
      "182  0.004770 -0.006876  0.138003 -0.028117  0.373278  1.000000  0.069842   \n",
      "183  0.311450  0.298908  0.172624  0.260795  0.077304  0.069842  1.000000   \n",
      "184  0.033150  0.066561  0.113409  0.068022  0.242295  0.183492  0.078372   \n",
      "185  0.120694  0.108185  0.096786  0.266923  0.053831  0.018694  0.030392   \n",
      "186  0.633582  0.644730  0.097058  0.287207 -0.024920  0.037200  0.322030   \n",
      "187  0.128475  0.173667  0.134645  0.314512 -0.092206  0.008016  0.061124   \n",
      "188  0.566620  0.632891  0.269770  0.417201  0.027830  0.031209  0.335472   \n",
      "189  0.277410  0.209143  0.188052  0.558581 -0.083307 -0.012213  0.145430   \n",
      "190  0.207153  0.236307  0.221044  0.292574 -0.047756 -0.017617  0.107040   \n",
      "191  0.154557  0.224462  0.056777 -0.045934  0.072101 -0.001588  0.024588   \n",
      "192  0.136727  0.119311 -0.008958  0.116432  0.277503  0.076867 -0.036898   \n",
      "193  0.184727  0.202529  0.052776  0.019363  0.076507  0.029289  0.261197   \n",
      "194  0.167535  0.203176  0.223675  0.174067  0.102165  0.145625  0.169673   \n",
      "195  0.605071  0.745617  0.157265  0.318649 -0.009009  0.055816  0.210912   \n",
      "196  0.215021  0.195727  0.161304  0.269815 -0.008763  0.037502  0.170782   \n",
      "197  0.039301  0.220924  0.166300  0.098630 -0.029517  0.005023  0.062568   \n",
      "198  0.163133  0.263525  0.153054  0.213095 -0.059751 -0.001394  0.031875   \n",
      "199  0.629999  0.610320  0.242726  0.298501  0.009457  0.006289  0.359297   \n",
      "200  0.126944  0.183715  0.192007  0.155775  0.242502  0.080395  0.221777   \n",
      "201  0.153240  0.161878  0.087743  0.056948  0.122913  0.125366  0.050126   \n",
      "202  0.553018  0.598180  0.277216  0.326431  0.165712  0.107494  0.326202   \n",
      "203  0.176180  0.207748  0.139835  0.056765  0.028880 -0.056240  0.094942   \n",
      "204  0.098058  0.045713  0.133234  0.075642  0.167473  0.111331  0.037237   \n",
      "205  0.086496  0.052350  0.091242  0.010956  0.293567  0.267031  0.120523   \n",
      "206  0.217205  0.274229  0.176302  0.058413  0.189860  0.202017  0.238793   \n",
      "207  0.500414  0.578478  0.311927  0.221073  0.142516  0.061109  0.266666   \n",
      "208  0.626019  0.668060  0.234467  0.348205  0.049017  0.011829  0.404336   \n",
      "209  0.573642  0.633200  0.164674  0.266455  0.080678  0.091909  0.370507   \n",
      "210  0.069889  0.135673  0.043119 -0.031887  0.179448  0.125618  0.193234   \n",
      "211  0.240090  0.274603  0.115114  0.097348  0.266677  0.165338  0.171476   \n",
      "212  0.152811  0.189029  0.150634  0.097472  0.178348  0.069646  0.047108   \n",
      "213  0.248734  0.331677  0.244192  0.170095  0.215521  0.177802  0.164116   \n",
      "216  0.143618  0.096092  0.051282 -0.040168  0.293319  0.283941  0.089338   \n",
      "217  0.663242  0.620919  0.255138  0.498372  0.024493  0.029153  0.359363   \n",
      "218  0.334304  0.359523  0.053991  0.184986  0.164458 -0.002523  0.061917   \n",
      "219  0.226712  0.336530  0.245177  0.231847  0.036913  0.098609  0.150650   \n",
      "220  0.238928  0.325180  0.036275  0.117746  0.067799  0.058586  0.065462   \n",
      "221  0.175565  0.264519  0.035682  0.051018  0.127817  0.021401 -0.015114   \n",
      "222  0.206003  0.285338  0.037198  0.161855  0.132012  0.012241  0.108128   \n",
      "223  0.236996  0.254105  0.101762  0.127572  0.108655 -0.013027  0.017759   \n",
      "224  0.283846  0.303682  0.104708  0.157471  0.067589  0.040259  0.061940   \n",
      "225  0.275225  0.380923  0.262404  0.287710  0.132514  0.041636  0.185507   \n",
      "226  0.187774  0.255255  0.081634  0.072259  0.174491  0.065898  0.040875   \n",
      "227  0.558009  0.665616  0.175733  0.392982  0.108365  0.032747  0.304615   \n",
      "228  0.132890  0.199776  0.035002  0.116059  0.233858  0.044126  0.045723   \n",
      "229  0.416641  0.465659  0.155595  0.241391  0.182873  0.116767  0.115155   \n",
      "230  0.286378  0.336558  0.142879  0.120082  0.123685  0.024872  0.005072   \n",
      "231  0.213150  0.232800  0.163412  0.166594  0.229382  0.173132  0.204370   \n",
      "232  0.215131  0.280440  0.046691  0.106526  0.109270  0.073493 -0.043184   \n",
      "233  0.176420  0.213750  0.252494  0.224974 -0.012938  0.031639  0.151735   \n",
      "234  0.175585  0.238931  0.137667  0.127402  0.131845 -0.006262  0.053441   \n",
      "235  0.171352  0.254616  0.091440  0.032737  0.279404  0.044274  0.167398   \n",
      "237  0.134852  0.190663  0.094042  0.008550  0.096164  0.062112  0.173706   \n",
      "500  0.326825  0.392300  0.212325  0.170791  0.096699  0.018365  0.434409   \n",
      "\n",
      "          184       185       186  ...       228       229       230  \\\n",
      "175  0.033150  0.120694  0.633582  ...  0.132890  0.416641  0.286378   \n",
      "177  0.066561  0.108185  0.644730  ...  0.199776  0.465659  0.336558   \n",
      "179  0.113409  0.096786  0.097058  ...  0.035002  0.155595  0.142879   \n",
      "180  0.068022  0.266923  0.287207  ...  0.116059  0.241391  0.120082   \n",
      "181  0.242295  0.053831 -0.024920  ...  0.233858  0.182873  0.123685   \n",
      "182  0.183492  0.018694  0.037200  ...  0.044126  0.116767  0.024872   \n",
      "183  0.078372  0.030392  0.322030  ...  0.045723  0.115155  0.005072   \n",
      "184  1.000000 -0.020444  0.035519  ...  0.049173  0.152909  0.201288   \n",
      "185 -0.020444  1.000000  0.060756  ...  0.105384  0.108461  0.067787   \n",
      "186  0.035519  0.060756  1.000000  ...  0.089182  0.513396  0.300197   \n",
      "187  0.009136  0.313428  0.079732  ...  0.019913 -0.003076  0.017354   \n",
      "188  0.093263  0.050712  0.518677  ...  0.132320  0.420879  0.310870   \n",
      "189  0.021955  0.275262  0.115049  ...  0.036234  0.137533  0.118794   \n",
      "190  0.064657  0.189031  0.228653  ...  0.083430  0.174929  0.145580   \n",
      "191 -0.021440 -0.013543  0.109687  ...  0.114227  0.141720  0.131259   \n",
      "192  0.142983  0.232529  0.058137  ...  0.356264  0.256760  0.255301   \n",
      "193  0.173790  0.023497  0.295714  ...  0.172094  0.369527  0.333695   \n",
      "194  0.135508  0.175170  0.188017  ...  0.158541  0.258810  0.332386   \n",
      "195  0.088349  0.085172  0.588751  ...  0.159796  0.448294  0.335408   \n",
      "196  0.018424  0.292082  0.201342  ...  0.002260  0.239338  0.219777   \n",
      "197  0.098261  0.005340  0.052576  ...  0.053864  0.051234  0.131245   \n",
      "198  0.008999  0.012071  0.148187  ...  0.045053  0.160092  0.104184   \n",
      "199  0.060050  0.045166  0.580049  ...  0.027853  0.363733  0.207380   \n",
      "200  0.116721  0.039504  0.138655  ...  0.099714  0.167485  0.147968   \n",
      "201  0.164204  0.134476  0.068208  ...  0.017801  0.143305  0.137688   \n",
      "202  0.260680  0.053750  0.466887  ...  0.168946  0.413968  0.360078   \n",
      "203  0.036622  0.044705  0.088414  ...  0.071846  0.055706  0.109418   \n",
      "204  0.206946  0.035376  0.044353  ...  0.137879  0.137577  0.049011   \n",
      "205  0.142967 -0.010640 -0.040845  ...  0.162017  0.105757  0.037878   \n",
      "206  0.211902  0.052838  0.319549  ...  0.197847  0.450670  0.379041   \n",
      "207  0.190949  0.077680  0.459136  ...  0.134302  0.505403  0.387801   \n",
      "208  0.173935  0.005459  0.548475  ...  0.103223  0.405715  0.335880   \n",
      "209  0.161423 -0.035590  0.550552  ...  0.131456  0.402043  0.367388   \n",
      "210  0.059241  0.140642  0.148708  ...  0.168718  0.279803  0.191340   \n",
      "211  0.186615  0.081517  0.275246  ...  0.307444  0.735673  0.462819   \n",
      "212  0.193810  0.057036  0.084773  ...  0.147249  0.185783  0.255843   \n",
      "213  0.161089  0.065989  0.393708  ...  0.157265  0.524038  0.373366   \n",
      "216  0.133803  0.129139  0.100373  ...  0.251570  0.264651  0.181360   \n",
      "217  0.042613  0.226187  0.586970  ...  0.237712  0.505756  0.339483   \n",
      "218  0.192525  0.096288  0.308073  ...  0.415434  0.528176  0.562539   \n",
      "219  0.075971  0.077756  0.179154  ...  0.139584  0.236189  0.230150   \n",
      "220  0.234699  0.134251  0.380985  ...  0.192160  0.438241  0.492561   \n",
      "221  0.179648  0.112203  0.224207  ...  0.294055  0.387574  0.493603   \n",
      "222  0.196832  0.064331  0.365298  ...  0.210794  0.489462  0.429773   \n",
      "223  0.105088  0.052271  0.232209  ...  0.331682  0.481293  0.457882   \n",
      "224  0.085966  0.059767  0.330814  ...  0.342413  0.535147  0.531571   \n",
      "225  0.150071  0.088832  0.278083  ...  0.297705  0.405384  0.331876   \n",
      "226  0.132328  0.012091  0.206216  ...  0.336624  0.454355  0.432317   \n",
      "227  0.110404  0.143231  0.525070  ...  0.289957  0.540952  0.393527   \n",
      "228  0.049173  0.105384  0.089182  ...  1.000000  0.272170  0.266251   \n",
      "229  0.152909  0.108461  0.513396  ...  0.272170  1.000000  0.573885   \n",
      "230  0.201288  0.067787  0.300197  ...  0.266251  0.573885  1.000000   \n",
      "231  0.193248  0.061501  0.288057  ...  0.241749  0.731925  0.372131   \n",
      "232  0.135770  0.072984  0.268237  ...  0.359056  0.454448  0.468686   \n",
      "233  0.045688  0.057552  0.122417  ...  0.087677  0.110571  0.181102   \n",
      "234  0.229617  0.067271  0.196701  ...  0.275014  0.353116  0.410678   \n",
      "235  0.230341 -0.010395  0.195696  ...  0.342999  0.442417  0.467967   \n",
      "237  0.080618  0.076709  0.275420  ...  0.023042  0.264230  0.300165   \n",
      "500  0.231960  0.075967  0.320035  ...  0.192422  0.434119  0.380397   \n",
      "\n",
      "          231       232       233       234       235       237       500  \n",
      "175  0.213150  0.215131  0.176420  0.175585  0.171352  0.134852  0.326825  \n",
      "177  0.232800  0.280440  0.213750  0.238931  0.254616  0.190663  0.392300  \n",
      "179  0.163412  0.046691  0.252494  0.137667  0.091440  0.094042  0.212325  \n",
      "180  0.166594  0.106526  0.224974  0.127402  0.032737  0.008550  0.170791  \n",
      "181  0.229382  0.109270 -0.012938  0.131845  0.279404  0.096164  0.096699  \n",
      "182  0.173132  0.073493  0.031639 -0.006262  0.044274  0.062112  0.018365  \n",
      "183  0.204370 -0.043184  0.151735  0.053441  0.167398  0.173706  0.434409  \n",
      "184  0.193248  0.135770  0.045688  0.229617  0.230341  0.080618  0.231960  \n",
      "185  0.061501  0.072984  0.057552  0.067271 -0.010395  0.076709  0.075967  \n",
      "186  0.288057  0.268237  0.122417  0.196701  0.195696  0.275420  0.320035  \n",
      "187 -0.012587 -0.069983  0.165043  0.073431 -0.024477  0.025981  0.104347  \n",
      "188  0.290617  0.241680  0.189273  0.169672  0.190963  0.160708  0.365768  \n",
      "189  0.113982  0.036670  0.230620  0.158185  0.027362  0.075279  0.188035  \n",
      "190  0.113338  0.185457  0.135942  0.200961  0.090752  0.171370  0.231372  \n",
      "191  0.121688  0.122074  0.217567  0.055344  0.095772  0.188065  0.150008  \n",
      "192  0.190384  0.225519  0.011617  0.221003  0.321203  0.034248  0.098146  \n",
      "193  0.325449  0.220009 -0.007353  0.209122  0.374169  0.404009  0.436733  \n",
      "194  0.286447  0.235968  0.221825  0.146712  0.224496  0.357433  0.140540  \n",
      "195  0.209001  0.260880  0.164166  0.186009  0.197567  0.144458  0.331930  \n",
      "196  0.264180  0.061392  0.192439  0.165291  0.072023  0.263975  0.114683  \n",
      "197  0.017536  0.074632  0.220220  0.122855  0.081999  0.142879  0.137384  \n",
      "198  0.116864  0.114011  0.244977  0.163083 -0.006378  0.159222  0.135049  \n",
      "199  0.170290  0.161728  0.222739  0.168745  0.157459  0.140685  0.380225  \n",
      "200  0.238851  0.077427  0.163727  0.142739  0.102643  0.113012  0.143423  \n",
      "201  0.132408  0.057361  0.124564  0.025652  0.048447  0.135772  0.113143  \n",
      "202  0.338238  0.241418  0.177219  0.228000  0.204655  0.183524  0.388573  \n",
      "203  0.045840 -0.057830  0.024699  0.008921  0.068038 -0.027420  0.097561  \n",
      "204  0.082686  0.094274  0.103715  0.056854  0.108739  0.036835  0.069431  \n",
      "205  0.185467  0.059933 -0.019151  0.007424  0.227493  0.052929  0.136504  \n",
      "206  0.466792  0.263017  0.100349  0.294354  0.532443  0.335599  0.464483  \n",
      "207  0.456514  0.262749  0.088933  0.335613  0.410984  0.182237  0.543344  \n",
      "208  0.297134  0.189840  0.240183  0.168886  0.178596  0.200031  0.398672  \n",
      "209  0.286245  0.227285  0.197698  0.109214  0.161744  0.224177  0.360197  \n",
      "210  0.342948  0.177961  0.292464  0.153989  0.207590  0.522503  0.173974  \n",
      "211  0.830457  0.327892  0.141897  0.268772  0.470445  0.318321  0.388106  \n",
      "212  0.227466  0.281981  0.157593  0.197282  0.275721  0.251775  0.175742  \n",
      "213  0.589310  0.253536  0.190047  0.241218  0.149442  0.389914  0.214128  \n",
      "216  0.288020  0.123005  0.033274  0.072092  0.175356  0.185534  0.092756  \n",
      "217  0.342216  0.323489  0.126125  0.283212  0.287394  0.088282  0.421003  \n",
      "218  0.402556  0.656502  0.034554  0.478984  0.632017  0.106395  0.383581  \n",
      "219  0.266463  0.145583  0.221380  0.191204  0.187800  0.262252  0.312551  \n",
      "220  0.312982  0.396373  0.158100  0.460417  0.328902  0.385371  0.308148  \n",
      "221  0.345714  0.482293  0.125018  0.703030  0.387667  0.310649  0.305446  \n",
      "222  0.379369  0.567115  0.047181  0.430252  0.335315  0.335608  0.271102  \n",
      "223  0.311101  0.553823  0.161380  0.456070  0.450868  0.149860  0.291047  \n",
      "224  0.341473  0.711148  0.170609  0.481991  0.445131  0.250251  0.344856  \n",
      "225  0.414928  0.405912  0.127307  0.458116  0.438842  0.188718  0.353417  \n",
      "226  0.290997  0.603492  0.109464  0.436363  0.500208  0.164535  0.308676  \n",
      "227  0.395551  0.363309  0.141961  0.306366  0.438031  0.319215  0.440950  \n",
      "228  0.241749  0.359056  0.087677  0.275014  0.342999  0.023042  0.192422  \n",
      "229  0.731925  0.454448  0.110571  0.353116  0.442417  0.264230  0.434119  \n",
      "230  0.372131  0.468686  0.181102  0.410678  0.467967  0.300165  0.380397  \n",
      "231  1.000000  0.295236  0.177100  0.323624  0.381044  0.343991  0.352689  \n",
      "232  0.295236  1.000000  0.045017  0.459493  0.406100  0.169582  0.215665  \n",
      "233  0.177100  0.045017  1.000000  0.152563  0.025952  0.329879  0.093183  \n",
      "234  0.323624  0.459493  0.152563  1.000000  0.432087  0.202726  0.303068  \n",
      "235  0.381044  0.406100  0.025952  0.432087  1.000000  0.171355  0.532260  \n",
      "237  0.343991  0.169582  0.329879  0.202726  0.171355  1.000000  0.239052  \n",
      "500  0.352689  0.215665  0.093183  0.303068  0.532260  0.239052  1.000000  \n",
      "\n",
      "[59 rows x 59 columns]\n",
      "\n",
      "Các bài báo có độ tương đồng cao ( > 0.5): \n",
      "These tech leaders donated to Trump. Now they’re out billions of dollars (edition.cnn.com) vs Musk to reduce Doge role after Tesla profits plunge (bbc.com): 0.5433\n",
      "Elon Musk is the face of DOGE. But he hasn’t faced a challenging interview (edition.cnn.com) vs Musk to reduce Doge role after Tesla profits plunge (bbc.com): 0.5323\n"
     ]
    }
   ],
   "source": [
    "threshold = 0.5\n",
    "# Tính độ tương đồng cho các bài báo thuộc danh mục 'Business'\n",
    "similarity_matrix, results_df = compute_embedding_similarity(news_df, category_filter='Business', threshold=threshold)\n",
    "\n",
    "# In ma trận tương đồng\n",
    "print(\"BERT-based Cosine Similarity Matrix (Business articles):\")\n",
    "print(similarity_matrix)\n",
    "\n",
    "# In các cặp bài báo có độ tương đồng cao\n",
    "print(f\"\\nCác bài báo có độ tương đồng cao ( > {threshold}): \")\n",
    "if not results_df.empty:\n",
    "    for _, row in results_df.iterrows():\n",
    "        print(f\"{row['article_1']} ({row['source_1']}) vs {row['article_2']} ({row['source_2']}): {row['similarity']:.4f}\")\n",
    "else:\n",
    "    print(f\"Không có cặp bài báo nào có độ tương đồng cao > {threshold}\")"
   ]
  }
 ],
 "metadata": {
  "kaggle": {
   "accelerator": "none",
   "dataSources": [
    {
     "datasetId": 7189640,
     "sourceId": 11522906,
     "sourceType": "datasetVersion"
    }
   ],
   "dockerImageVersionId": 31012,
   "isGpuEnabled": false,
   "isInternetEnabled": true,
   "language": "python",
   "sourceType": "notebook"
  },
  "kernelspec": {
   "display_name": "Python 3",
   "language": "python",
   "name": "python3"
  },
  "language_info": {
   "codemirror_mode": {
    "name": "ipython",
    "version": 3
   },
   "file_extension": ".py",
   "mimetype": "text/x-python",
   "name": "python",
   "nbconvert_exporter": "python",
   "pygments_lexer": "ipython3",
   "version": "3.11.11"
  }
 },
 "nbformat": 4,
 "nbformat_minor": 4
}
